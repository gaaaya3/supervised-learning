{
 "cells": [
  {
   "cell_type": "code",
   "execution_count": 1,
   "id": "72e949ee-4019-4b9c-bcd4-4f917b83df9e",
   "metadata": {},
   "outputs": [],
   "source": [
    "from sklearn.datasets import load_breast_cancer"
   ]
  },
  {
   "cell_type": "code",
   "execution_count": 2,
   "id": "2fd372f3-b8e1-412d-8b92-1cab9ff3097b",
   "metadata": {},
   "outputs": [],
   "source": [
    "import pandas as pd\n",
    "import numpy as np"
   ]
  },
  {
   "cell_type": "code",
   "execution_count": 3,
   "id": "7260cf03-6df6-4d46-8cf8-9ffd0eee1708",
   "metadata": {},
   "outputs": [],
   "source": [
    "data = load_breast_cancer()"
   ]
  },
  {
   "cell_type": "code",
   "execution_count": 4,
   "id": "cd160f39-8271-4f23-8a20-156c92e938cb",
   "metadata": {},
   "outputs": [],
   "source": [
    "X = data.data\n",
    "y = data.target"
   ]
  },
  {
   "cell_type": "code",
   "execution_count": 5,
   "id": "94c0b7a4-4610-4293-bd7d-6d27ecc44402",
   "metadata": {},
   "outputs": [],
   "source": [
    "df = pd.DataFrame(X, columns=data.feature_names)"
   ]
  },
  {
   "cell_type": "code",
   "execution_count": 6,
   "id": "d3877749-2e71-436c-8838-d1749d1e0d70",
   "metadata": {},
   "outputs": [],
   "source": [
    "df['target'] = y"
   ]
  },
  {
   "cell_type": "code",
   "execution_count": 7,
   "id": "475e5673-8e3a-4725-a6d7-4cd4de507254",
   "metadata": {},
   "outputs": [],
   "source": [
    "from sklearn.preprocessing import StandardScaler"
   ]
  },
  {
   "cell_type": "code",
   "execution_count": 8,
   "id": "087cfdb5-9560-4310-b1ee-34e05dd48c73",
   "metadata": {},
   "outputs": [],
   "source": [
    "scaler = StandardScaler()"
   ]
  },
  {
   "cell_type": "code",
   "execution_count": 9,
   "id": "8d3b42e1-9c42-4ba2-b9da-14f9192b322c",
   "metadata": {},
   "outputs": [],
   "source": [
    "X_scaled = scaler.fit_transform(X)"
   ]
  },
  {
   "cell_type": "code",
   "execution_count": 10,
   "id": "1e12efaa-ab65-4bbc-9a06-96877bf9986f",
   "metadata": {},
   "outputs": [],
   "source": [
    "from sklearn.linear_model import LogisticRegression\n",
    "from sklearn.model_selection import train_test_split"
   ]
  },
  {
   "cell_type": "code",
   "execution_count": 11,
   "id": "fc10dcee-d735-4596-b374-9e619fd00179",
   "metadata": {},
   "outputs": [],
   "source": [
    "X_train, X_test, y_train, y_test = train_test_split(X_scaled, y, test_size=0.2, random_state=42)"
   ]
  },
  {
   "cell_type": "code",
   "execution_count": 12,
   "id": "d2c9b95d-ff18-4f6d-aa9c-35aa37c3dba0",
   "metadata": {},
   "outputs": [],
   "source": [
    "log_reg = LogisticRegression()\n",
    "log_reg.fit(X_train, y_train)\n",
    "log_reg_score = log_reg.score(X_test, y_test)"
   ]
  },
  {
   "cell_type": "code",
   "execution_count": 13,
   "id": "9175e1f1-fe87-4ec6-a2c3-3567f155f493",
   "metadata": {},
   "outputs": [],
   "source": [
    "from sklearn.tree import DecisionTreeClassifier"
   ]
  },
  {
   "cell_type": "code",
   "execution_count": 14,
   "id": "ff6b91cf-b91d-41e7-96a9-9eeb4654cb20",
   "metadata": {},
   "outputs": [],
   "source": [
    "dt_classifier = DecisionTreeClassifier()\n",
    "dt_classifier.fit(X_train, y_train)\n",
    "dt_score = dt_classifier.score(X_test, y_test)"
   ]
  },
  {
   "cell_type": "code",
   "execution_count": 15,
   "id": "96f1eb3e-3767-4293-8901-bf923bfc1635",
   "metadata": {},
   "outputs": [],
   "source": [
    "from sklearn.ensemble import RandomForestClassifier"
   ]
  },
  {
   "cell_type": "code",
   "execution_count": 16,
   "id": "8f6890a0-760a-4fb9-a7ce-9094c999d840",
   "metadata": {},
   "outputs": [],
   "source": [
    "rf_classifier = RandomForestClassifier()\n",
    "rf_classifier.fit(X_train, y_train)\n",
    "rf_score = rf_classifier.score(X_test, y_test)"
   ]
  },
  {
   "cell_type": "code",
   "execution_count": 17,
   "id": "2e11ed12-794b-4edb-b839-8aec6d2e7bed",
   "metadata": {},
   "outputs": [],
   "source": [
    "from sklearn.svm import SVC"
   ]
  },
  {
   "cell_type": "code",
   "execution_count": 18,
   "id": "59b5dffc-51cc-4eac-b8a0-ad3ceb47825e",
   "metadata": {},
   "outputs": [],
   "source": [
    "svm_classifier = SVC()\n",
    "svm_classifier.fit(X_train, y_train)\n",
    "svm_score = svm_classifier.score(X_test, y_test)"
   ]
  },
  {
   "cell_type": "code",
   "execution_count": 19,
   "id": "3b6529be-d910-49c6-a69b-c313483cba60",
   "metadata": {},
   "outputs": [],
   "source": [
    "from sklearn.neighbors import KNeighborsClassifier"
   ]
  },
  {
   "cell_type": "code",
   "execution_count": 20,
   "id": "94cf6f33-cb81-4677-9a44-8c8076009944",
   "metadata": {},
   "outputs": [],
   "source": [
    "knn_classifier = KNeighborsClassifier()\n",
    "knn_classifier.fit(X_train, y_train)\n",
    "knn_score = knn_classifier.score(X_test, y_test)"
   ]
  },
  {
   "cell_type": "code",
   "execution_count": 21,
   "id": "70340b82-fac6-4a1c-a7a5-b0c8fd48541a",
   "metadata": {},
   "outputs": [],
   "source": [
    "scores = {\n",
    "    'Model': ['Logistic Regression', 'Decision Tree', 'Random Forest', 'SVM', 'k-NN'],\n",
    "    'Accuracy': [log_reg_score, dt_score, rf_score, svm_score, knn_score]\n",
    "}"
   ]
  },
  {
   "cell_type": "code",
   "execution_count": 22,
   "id": "537ab119-d083-4ed9-a3a2-46a8a6ae492b",
   "metadata": {},
   "outputs": [],
   "source": [
    "scores_df = pd.DataFrame(scores)"
   ]
  },
  {
   "cell_type": "code",
   "execution_count": 23,
   "id": "13c01a2c-02c3-40a9-b876-6a82e0340b6a",
   "metadata": {},
   "outputs": [
    {
     "name": "stdout",
     "output_type": "stream",
     "text": [
      "                 Model  Accuracy\n",
      "0  Logistic Regression  0.973684\n",
      "1        Decision Tree  0.938596\n",
      "2        Random Forest  0.964912\n",
      "3                  SVM  0.973684\n",
      "4                 k-NN  0.947368\n"
     ]
    }
   ],
   "source": [
    "print(scores_df)"
   ]
  },
  {
   "cell_type": "code",
   "execution_count": 24,
   "id": "cb7d2f6f-1251-49d6-93d7-ee4698ab72ee",
   "metadata": {},
   "outputs": [],
   "source": [
    "best_model = scores_df.loc[scores_df['Accuracy'].idxmax()]"
   ]
  },
  {
   "cell_type": "code",
   "execution_count": 25,
   "id": "3e030d0b-16ef-403d-9854-758d5d7c2488",
   "metadata": {},
   "outputs": [],
   "source": [
    "worst_model = scores_df.loc[scores_df['Accuracy'].idxmin()]"
   ]
  },
  {
   "cell_type": "code",
   "execution_count": 26,
   "id": "1e2d9619-cca7-4f62-8331-fdaad6667027",
   "metadata": {},
   "outputs": [
    {
     "name": "stdout",
     "output_type": "stream",
     "text": [
      "Best Model: Logistic Regression with accuracy 0.9736842105263158\n",
      "Worst Model: Decision Tree with accuracy 0.9385964912280702\n"
     ]
    }
   ],
   "source": [
    "print(f\"Best Model: {best_model['Model']} with accuracy {best_model['Accuracy']}\")\n",
    "print(f\"Worst Model: {worst_model['Model']} with accuracy {worst_model['Accuracy']}\")"
   ]
  },
  {
   "cell_type": "code",
   "execution_count": null,
   "id": "add048e0-d014-41c2-b805-285f80323c43",
   "metadata": {},
   "outputs": [],
   "source": []
  }
 ],
 "metadata": {
  "kernelspec": {
   "display_name": "Python 3 (ipykernel)",
   "language": "python",
   "name": "python3"
  },
  "language_info": {
   "codemirror_mode": {
    "name": "ipython",
    "version": 3
   },
   "file_extension": ".py",
   "mimetype": "text/x-python",
   "name": "python",
   "nbconvert_exporter": "python",
   "pygments_lexer": "ipython3",
   "version": "3.13.0"
  }
 },
 "nbformat": 4,
 "nbformat_minor": 5
}
